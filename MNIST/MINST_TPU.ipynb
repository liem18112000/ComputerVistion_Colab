{
  "nbformat": 4,
  "nbformat_minor": 0,
  "metadata": {
    "colab": {
      "name": "MINST_TPU.ipynb",
      "provenance": []
    },
    "kernelspec": {
      "name": "python3",
      "display_name": "Python 3"
    },
    "accelerator": "TPU"
  },
  "cells": [
    {
      "cell_type": "code",
      "metadata": {
        "id": "1noAPqkSorNs"
      },
      "source": [
        "import tensorflow as tf\r\n",
        "from tensorflow.keras.layers import *\r\n",
        "from tensorflow.keras.models import Sequential as Base_Model\r\n",
        "from tensorflow.keras.applications import VGG19 as Pretrained_Model\r\n",
        "from tensorflow.keras.datasets import mnist as dataset\r\n",
        "import os\r\n",
        "from datetime import datetime\r\n",
        "import numpy as np\r\n",
        "import matplotlib.pyplot as plt\r\n",
        "from sklearn.model_selection import train_test_split"
      ],
      "execution_count": null,
      "outputs": []
    },
    {
      "cell_type": "code",
      "metadata": {
        "id": "YzBq-DuGpLam"
      },
      "source": [
        "def create_model():\r\n",
        "\r\n",
        "    pretrained_model = Pretrained_Model(\r\n",
        "        input_shape=(224, 224, 3),\r\n",
        "        include_top = False,\r\n",
        "        weights='imagenet'\r\n",
        "    )\r\n",
        "\r\n",
        "    for layer in pretrained_model.layers:\r\n",
        "        layer.trainable = False\r\n",
        "\r\n",
        "    model = Base_Model([\r\n",
        "        Input(shape=(28, 28, 1)),\r\n",
        "        UpSampling3D(size=(8, 8, 3)),\r\n",
        "        pretrained_model,\r\n",
        "        Dropout(0.5),\r\n",
        "        Flatten(),\r\n",
        "        Dense(4096, activation='relu'),\r\n",
        "        Dense(2048, activation='relu'),\r\n",
        "        Dense(1024, activation='relu'),\r\n",
        "        Dense(512, activation='relu'),\r\n",
        "        Dense(256, activation='relu'),\r\n",
        "        Dense(128, activation='relu'),\r\n",
        "        Dense(10, activation='softmax'),\r\n",
        "    ])\r\n",
        "\r\n",
        "    model.summary()\r\n",
        "\r\n",
        "    return model"
      ],
      "execution_count": null,
      "outputs": []
    },
    {
      "cell_type": "code",
      "metadata": {
        "colab": {
          "base_uri": "https://localhost:8080/"
        },
        "id": "yhHLa-BQr1VA",
        "outputId": "5bdfd6d1-8004-48c4-8c33-e8e9379869b8"
      },
      "source": [
        "# Load MNIST datasets\r\n",
        "(x_train, y_train), (x_test, y_test) = dataset.load_data()\r\n",
        "x_train, x_test = np.expand_dims(x_train, axis = 3), np.expand_dims(x_test, axis = 3)  \r\n",
        "\r\n",
        "# Rescale the images from [0,255] to the [0.0,1.0] range.\r\n",
        "x_train, x_test = np.array(x_train, dtype=np.float32)/255.0, np.array(x_test, dtype=np.float32)/255.0\r\n",
        "y_train, y_test = tf.keras.utils.to_categorical(y_train, 10, dtype=np.uint8),tf.keras.utils.to_categorical(y_test, 10, dtype=np.uint8)\r\n",
        "\r\n",
        "# Brief information of datasets\r\n",
        "print(\"Shape of original training examples:\", np.shape(x_train))\r\n",
        "print(\"Shape of original test examples:\", np.shape(x_test))\r\n",
        "print(\"Shape of original training result:\", np.shape(y_train))\r\n",
        "print(\"Shape of original test result:\", np.shape(y_test))"
      ],
      "execution_count": null,
      "outputs": [
        {
          "output_type": "stream",
          "text": [
            "Shape of original training examples: (60000, 28, 28, 1)\n",
            "Shape of original test examples: (10000, 28, 28, 1)\n",
            "Shape of original training result: (60000, 10)\n",
            "Shape of original test result: (10000, 10)\n"
          ],
          "name": "stdout"
        }
      ]
    },
    {
      "cell_type": "code",
      "metadata": {
        "colab": {
          "base_uri": "https://localhost:8080/"
        },
        "id": "IP2rORg6rgFt",
        "outputId": "3351f42a-4ad0-43e3-bb13-5caeac66b919"
      },
      "source": [
        "resolver = tf.distribute.cluster_resolver.TPUClusterResolver(tpu='grpc://' + os.environ['COLAB_TPU_ADDR'])\r\n",
        "tf.config.experimental_connect_to_cluster(resolver)\r\n",
        "tf.tpu.experimental.initialize_tpu_system(resolver)\r\n",
        "strategy = tf.distribute.experimental.TPUStrategy(resolver)\r\n",
        "\r\n",
        "with strategy.scope():\r\n",
        "    model = create_model()\r\n",
        "\r\n",
        "    model.compile(\r\n",
        "        optimizer='adam',\r\n",
        "        loss='categorical_crossentropy',\r\n",
        "        metrics=['accuracy']\r\n",
        "    )\r\n",
        "\r\n",
        "    history = model.fit(\r\n",
        "        x_train, y_train, \r\n",
        "        validation_data = (x_test, y_test),\r\n",
        "        batch_size=1024, \r\n",
        "        epochs=50,\r\n",
        "        callbacks = [tf.keras.callbacks.EarlyStopping(monitor='loss', patience=3)]\r\n",
        "    )"
      ],
      "execution_count": null,
      "outputs": [
        {
          "output_type": "stream",
          "text": [
            "WARNING:tensorflow:TPU system grpc://10.119.23.170:8470 has already been initialized. Reinitializing the TPU can cause previously created variables on TPU to be lost.\n"
          ],
          "name": "stdout"
        },
        {
          "output_type": "stream",
          "text": [
            "WARNING:tensorflow:TPU system grpc://10.119.23.170:8470 has already been initialized. Reinitializing the TPU can cause previously created variables on TPU to be lost.\n"
          ],
          "name": "stderr"
        },
        {
          "output_type": "stream",
          "text": [
            "INFO:tensorflow:Initializing the TPU system: grpc://10.119.23.170:8470\n"
          ],
          "name": "stdout"
        },
        {
          "output_type": "stream",
          "text": [
            "INFO:tensorflow:Initializing the TPU system: grpc://10.119.23.170:8470\n"
          ],
          "name": "stderr"
        },
        {
          "output_type": "stream",
          "text": [
            "INFO:tensorflow:Clearing out eager caches\n"
          ],
          "name": "stdout"
        },
        {
          "output_type": "stream",
          "text": [
            "INFO:tensorflow:Clearing out eager caches\n"
          ],
          "name": "stderr"
        },
        {
          "output_type": "stream",
          "text": [
            "INFO:tensorflow:Finished initializing TPU system.\n"
          ],
          "name": "stdout"
        },
        {
          "output_type": "stream",
          "text": [
            "INFO:tensorflow:Finished initializing TPU system.\n",
            "WARNING:absl:`tf.distribute.experimental.TPUStrategy` is deprecated, please use  the non experimental symbol `tf.distribute.TPUStrategy` instead.\n"
          ],
          "name": "stderr"
        },
        {
          "output_type": "stream",
          "text": [
            "INFO:tensorflow:Found TPU system:\n"
          ],
          "name": "stdout"
        },
        {
          "output_type": "stream",
          "text": [
            "INFO:tensorflow:Found TPU system:\n"
          ],
          "name": "stderr"
        },
        {
          "output_type": "stream",
          "text": [
            "INFO:tensorflow:*** Num TPU Cores: 8\n"
          ],
          "name": "stdout"
        },
        {
          "output_type": "stream",
          "text": [
            "INFO:tensorflow:*** Num TPU Cores: 8\n"
          ],
          "name": "stderr"
        },
        {
          "output_type": "stream",
          "text": [
            "INFO:tensorflow:*** Num TPU Workers: 1\n"
          ],
          "name": "stdout"
        },
        {
          "output_type": "stream",
          "text": [
            "INFO:tensorflow:*** Num TPU Workers: 1\n"
          ],
          "name": "stderr"
        },
        {
          "output_type": "stream",
          "text": [
            "INFO:tensorflow:*** Num TPU Cores Per Worker: 8\n"
          ],
          "name": "stdout"
        },
        {
          "output_type": "stream",
          "text": [
            "INFO:tensorflow:*** Num TPU Cores Per Worker: 8\n"
          ],
          "name": "stderr"
        },
        {
          "output_type": "stream",
          "text": [
            "INFO:tensorflow:*** Available Device: _DeviceAttributes(/job:localhost/replica:0/task:0/device:CPU:0, CPU, 0, 0)\n"
          ],
          "name": "stdout"
        },
        {
          "output_type": "stream",
          "text": [
            "INFO:tensorflow:*** Available Device: _DeviceAttributes(/job:localhost/replica:0/task:0/device:CPU:0, CPU, 0, 0)\n"
          ],
          "name": "stderr"
        },
        {
          "output_type": "stream",
          "text": [
            "INFO:tensorflow:*** Available Device: _DeviceAttributes(/job:worker/replica:0/task:0/device:CPU:0, CPU, 0, 0)\n"
          ],
          "name": "stdout"
        },
        {
          "output_type": "stream",
          "text": [
            "INFO:tensorflow:*** Available Device: _DeviceAttributes(/job:worker/replica:0/task:0/device:CPU:0, CPU, 0, 0)\n"
          ],
          "name": "stderr"
        },
        {
          "output_type": "stream",
          "text": [
            "INFO:tensorflow:*** Available Device: _DeviceAttributes(/job:worker/replica:0/task:0/device:TPU:0, TPU, 0, 0)\n"
          ],
          "name": "stdout"
        },
        {
          "output_type": "stream",
          "text": [
            "INFO:tensorflow:*** Available Device: _DeviceAttributes(/job:worker/replica:0/task:0/device:TPU:0, TPU, 0, 0)\n"
          ],
          "name": "stderr"
        },
        {
          "output_type": "stream",
          "text": [
            "INFO:tensorflow:*** Available Device: _DeviceAttributes(/job:worker/replica:0/task:0/device:TPU:1, TPU, 0, 0)\n"
          ],
          "name": "stdout"
        },
        {
          "output_type": "stream",
          "text": [
            "INFO:tensorflow:*** Available Device: _DeviceAttributes(/job:worker/replica:0/task:0/device:TPU:1, TPU, 0, 0)\n"
          ],
          "name": "stderr"
        },
        {
          "output_type": "stream",
          "text": [
            "INFO:tensorflow:*** Available Device: _DeviceAttributes(/job:worker/replica:0/task:0/device:TPU:2, TPU, 0, 0)\n"
          ],
          "name": "stdout"
        },
        {
          "output_type": "stream",
          "text": [
            "INFO:tensorflow:*** Available Device: _DeviceAttributes(/job:worker/replica:0/task:0/device:TPU:2, TPU, 0, 0)\n"
          ],
          "name": "stderr"
        },
        {
          "output_type": "stream",
          "text": [
            "INFO:tensorflow:*** Available Device: _DeviceAttributes(/job:worker/replica:0/task:0/device:TPU:3, TPU, 0, 0)\n"
          ],
          "name": "stdout"
        },
        {
          "output_type": "stream",
          "text": [
            "INFO:tensorflow:*** Available Device: _DeviceAttributes(/job:worker/replica:0/task:0/device:TPU:3, TPU, 0, 0)\n"
          ],
          "name": "stderr"
        },
        {
          "output_type": "stream",
          "text": [
            "INFO:tensorflow:*** Available Device: _DeviceAttributes(/job:worker/replica:0/task:0/device:TPU:4, TPU, 0, 0)\n"
          ],
          "name": "stdout"
        },
        {
          "output_type": "stream",
          "text": [
            "INFO:tensorflow:*** Available Device: _DeviceAttributes(/job:worker/replica:0/task:0/device:TPU:4, TPU, 0, 0)\n"
          ],
          "name": "stderr"
        },
        {
          "output_type": "stream",
          "text": [
            "INFO:tensorflow:*** Available Device: _DeviceAttributes(/job:worker/replica:0/task:0/device:TPU:5, TPU, 0, 0)\n"
          ],
          "name": "stdout"
        },
        {
          "output_type": "stream",
          "text": [
            "INFO:tensorflow:*** Available Device: _DeviceAttributes(/job:worker/replica:0/task:0/device:TPU:5, TPU, 0, 0)\n"
          ],
          "name": "stderr"
        },
        {
          "output_type": "stream",
          "text": [
            "INFO:tensorflow:*** Available Device: _DeviceAttributes(/job:worker/replica:0/task:0/device:TPU:6, TPU, 0, 0)\n"
          ],
          "name": "stdout"
        },
        {
          "output_type": "stream",
          "text": [
            "INFO:tensorflow:*** Available Device: _DeviceAttributes(/job:worker/replica:0/task:0/device:TPU:6, TPU, 0, 0)\n"
          ],
          "name": "stderr"
        },
        {
          "output_type": "stream",
          "text": [
            "INFO:tensorflow:*** Available Device: _DeviceAttributes(/job:worker/replica:0/task:0/device:TPU:7, TPU, 0, 0)\n"
          ],
          "name": "stdout"
        },
        {
          "output_type": "stream",
          "text": [
            "INFO:tensorflow:*** Available Device: _DeviceAttributes(/job:worker/replica:0/task:0/device:TPU:7, TPU, 0, 0)\n"
          ],
          "name": "stderr"
        },
        {
          "output_type": "stream",
          "text": [
            "INFO:tensorflow:*** Available Device: _DeviceAttributes(/job:worker/replica:0/task:0/device:TPU_SYSTEM:0, TPU_SYSTEM, 0, 0)\n"
          ],
          "name": "stdout"
        },
        {
          "output_type": "stream",
          "text": [
            "INFO:tensorflow:*** Available Device: _DeviceAttributes(/job:worker/replica:0/task:0/device:TPU_SYSTEM:0, TPU_SYSTEM, 0, 0)\n"
          ],
          "name": "stderr"
        },
        {
          "output_type": "stream",
          "text": [
            "INFO:tensorflow:*** Available Device: _DeviceAttributes(/job:worker/replica:0/task:0/device:XLA_CPU:0, XLA_CPU, 0, 0)\n"
          ],
          "name": "stdout"
        },
        {
          "output_type": "stream",
          "text": [
            "INFO:tensorflow:*** Available Device: _DeviceAttributes(/job:worker/replica:0/task:0/device:XLA_CPU:0, XLA_CPU, 0, 0)\n"
          ],
          "name": "stderr"
        },
        {
          "output_type": "stream",
          "text": [
            "Downloading data from https://storage.googleapis.com/tensorflow/keras-applications/vgg19/vgg19_weights_tf_dim_ordering_tf_kernels_notop.h5\n",
            "80142336/80134624 [==============================] - 0s 0us/step\n",
            "Model: \"sequential_1\"\n",
            "_________________________________________________________________\n",
            "Layer (type)                 Output Shape              Param #   \n",
            "=================================================================\n",
            "up_sampling3d_1 (UpSampling3 (None, 224, 224, 3)       0         \n",
            "_________________________________________________________________\n",
            "vgg19 (Functional)           (None, 7, 7, 512)         20024384  \n",
            "_________________________________________________________________\n",
            "dropout_1 (Dropout)          (None, 7, 7, 512)         0         \n",
            "_________________________________________________________________\n",
            "flatten_1 (Flatten)          (None, 25088)             0         \n",
            "_________________________________________________________________\n",
            "dense_7 (Dense)              (None, 4096)              102764544 \n",
            "_________________________________________________________________\n",
            "dense_8 (Dense)              (None, 2048)              8390656   \n",
            "_________________________________________________________________\n",
            "dense_9 (Dense)              (None, 1024)              2098176   \n",
            "_________________________________________________________________\n",
            "dense_10 (Dense)             (None, 512)               524800    \n",
            "_________________________________________________________________\n",
            "dense_11 (Dense)             (None, 256)               131328    \n",
            "_________________________________________________________________\n",
            "dense_12 (Dense)             (None, 128)               32896     \n",
            "_________________________________________________________________\n",
            "dense_13 (Dense)             (None, 10)                1290      \n",
            "=================================================================\n",
            "Total params: 133,968,074\n",
            "Trainable params: 113,943,690\n",
            "Non-trainable params: 20,024,384\n",
            "_________________________________________________________________\n",
            "Epoch 1/50\n",
            "59/59 [==============================] - 68s 908ms/step - loss: 4.0754 - accuracy: 0.2021 - val_loss: 0.5344 - val_accuracy: 0.8322\n",
            "Epoch 2/50\n",
            "59/59 [==============================] - 21s 360ms/step - loss: 0.3749 - accuracy: 0.8772 - val_loss: 0.1340 - val_accuracy: 0.9584\n",
            "Epoch 3/50\n",
            "59/59 [==============================] - 21s 361ms/step - loss: 0.1146 - accuracy: 0.9645 - val_loss: 0.0753 - val_accuracy: 0.9760\n",
            "Epoch 4/50\n",
            "59/59 [==============================] - 21s 360ms/step - loss: 0.0917 - accuracy: 0.9708 - val_loss: 0.0645 - val_accuracy: 0.9796\n",
            "Epoch 5/50\n",
            "59/59 [==============================] - 21s 360ms/step - loss: 0.0644 - accuracy: 0.9792 - val_loss: 0.0503 - val_accuracy: 0.9845\n",
            "Epoch 6/50\n",
            "59/59 [==============================] - 21s 360ms/step - loss: 0.0572 - accuracy: 0.9815 - val_loss: 0.0598 - val_accuracy: 0.9806\n",
            "Epoch 7/50\n",
            "59/59 [==============================] - 21s 360ms/step - loss: 0.0577 - accuracy: 0.9819 - val_loss: 0.0604 - val_accuracy: 0.9818\n",
            "Epoch 8/50\n",
            "59/59 [==============================] - 21s 359ms/step - loss: 0.0513 - accuracy: 0.9830 - val_loss: 0.0411 - val_accuracy: 0.9880\n",
            "Epoch 9/50\n",
            "59/59 [==============================] - 21s 360ms/step - loss: 0.0448 - accuracy: 0.9850 - val_loss: 0.0459 - val_accuracy: 0.9868\n",
            "Epoch 10/50\n",
            "59/59 [==============================] - 21s 360ms/step - loss: 0.0409 - accuracy: 0.9870 - val_loss: 0.0454 - val_accuracy: 0.9856\n",
            "Epoch 11/50\n",
            "59/59 [==============================] - 21s 360ms/step - loss: 0.0366 - accuracy: 0.9883 - val_loss: 0.0431 - val_accuracy: 0.9870\n",
            "Epoch 12/50\n",
            "59/59 [==============================] - 21s 360ms/step - loss: 0.0321 - accuracy: 0.9891 - val_loss: 0.0351 - val_accuracy: 0.9893\n",
            "Epoch 13/50\n",
            "59/59 [==============================] - 21s 361ms/step - loss: 0.0337 - accuracy: 0.9889 - val_loss: 0.0480 - val_accuracy: 0.9862\n",
            "Epoch 14/50\n",
            "59/59 [==============================] - 22s 366ms/step - loss: 0.0325 - accuracy: 0.9897 - val_loss: 0.0406 - val_accuracy: 0.9876\n",
            "Epoch 15/50\n",
            "59/59 [==============================] - 21s 360ms/step - loss: 0.0315 - accuracy: 0.9897 - val_loss: 0.0351 - val_accuracy: 0.9889\n",
            "Epoch 16/50\n",
            "59/59 [==============================] - 21s 360ms/step - loss: 0.0286 - accuracy: 0.9907 - val_loss: 0.0399 - val_accuracy: 0.9886\n",
            "Epoch 17/50\n",
            "59/59 [==============================] - 21s 360ms/step - loss: 0.0252 - accuracy: 0.9916 - val_loss: 0.0513 - val_accuracy: 0.9850\n",
            "Epoch 18/50\n",
            "59/59 [==============================] - 21s 360ms/step - loss: 0.0366 - accuracy: 0.9874 - val_loss: 0.0541 - val_accuracy: 0.9848\n",
            "Epoch 19/50\n",
            "59/59 [==============================] - 21s 360ms/step - loss: 0.0310 - accuracy: 0.9897 - val_loss: 0.0348 - val_accuracy: 0.9893\n",
            "Epoch 20/50\n",
            "59/59 [==============================] - 21s 360ms/step - loss: 0.0229 - accuracy: 0.9926 - val_loss: 0.0354 - val_accuracy: 0.9901\n",
            "Epoch 21/50\n",
            "59/59 [==============================] - 21s 360ms/step - loss: 0.0248 - accuracy: 0.9916 - val_loss: 0.0389 - val_accuracy: 0.9888\n",
            "Epoch 22/50\n",
            "59/59 [==============================] - 21s 360ms/step - loss: 0.0233 - accuracy: 0.9925 - val_loss: 0.0428 - val_accuracy: 0.9875\n",
            "Epoch 23/50\n",
            "59/59 [==============================] - 21s 361ms/step - loss: 0.0202 - accuracy: 0.9928 - val_loss: 0.0432 - val_accuracy: 0.9880\n",
            "Epoch 24/50\n",
            "59/59 [==============================] - 21s 361ms/step - loss: 0.0234 - accuracy: 0.9919 - val_loss: 0.0372 - val_accuracy: 0.9903\n",
            "Epoch 25/50\n",
            "59/59 [==============================] - 21s 361ms/step - loss: 0.0200 - accuracy: 0.9930 - val_loss: 0.0403 - val_accuracy: 0.9885\n",
            "Epoch 26/50\n",
            "59/59 [==============================] - 21s 361ms/step - loss: 0.0224 - accuracy: 0.9920 - val_loss: 0.0389 - val_accuracy: 0.9885\n",
            "Epoch 27/50\n",
            "59/59 [==============================] - 21s 361ms/step - loss: 0.0254 - accuracy: 0.9915 - val_loss: 0.0329 - val_accuracy: 0.9904\n",
            "Epoch 28/50\n",
            "59/59 [==============================] - 21s 360ms/step - loss: 0.0214 - accuracy: 0.9933 - val_loss: 0.0445 - val_accuracy: 0.9860\n"
          ],
          "name": "stdout"
        }
      ]
    },
    {
      "cell_type": "code",
      "metadata": {
        "colab": {
          "base_uri": "https://localhost:8080/"
        },
        "id": "d4VPosaS0OFz",
        "outputId": "b3c2f165-6164-44f5-b8e6-cf682558e61f"
      },
      "source": [
        "model.evaluate(x_test, y_test, 1024)"
      ],
      "execution_count": null,
      "outputs": [
        {
          "output_type": "stream",
          "text": [
            "10/10 [==============================] - 3s 278ms/step - loss: 0.0445 - accuracy: 0.9860\n"
          ],
          "name": "stdout"
        },
        {
          "output_type": "execute_result",
          "data": {
            "text/plain": [
              "[0.04450763389468193, 0.9860000014305115]"
            ]
          },
          "metadata": {
            "tags": []
          },
          "execution_count": 14
        }
      ]
    }
  ]
}